{
  "nbformat": 4,
  "nbformat_minor": 0,
  "metadata": {
    "colab": {
      "provenance": []
    },
    "kernelspec": {
      "name": "python3",
      "display_name": "Python 3"
    },
    "language_info": {
      "name": "python"
    }
  },
  "cells": [
    {
      "cell_type": "code",
      "execution_count": 1,
      "metadata": {
        "colab": {
          "base_uri": "https://localhost:8080/"
        },
        "id": "3WWqJnwDrzmg",
        "outputId": "3af15f04-f983-4e84-c0cb-d6c993412a90"
      },
      "outputs": [
        {
          "output_type": "stream",
          "name": "stdout",
          "text": [
            "0    25\n",
            "1    30\n",
            "2    35\n",
            "3    40\n",
            "Name: Age, dtype: int64\n"
          ]
        }
      ],
      "source": [
        "import pandas as pd\n",
        "\n",
        "# Creating a DataFrame\n",
        "data = {\n",
        "    'Name': ['Alice', 'Bob', 'Charlie', 'David'],\n",
        "    'Age': [25, 30, 35, 40],\n",
        "    'City': ['New York', 'Los Angeles', 'Chicago', 'Houston']\n",
        "}\n",
        "\n",
        "df = pd.DataFrame(data)\n",
        "\n",
        "# Selecting the 'Age' column (correct syntax)\n",
        "print(df['Age'])\n"
      ]
    },
    {
      "cell_type": "code",
      "source": [
        "# Filter rows where age is greater than 30\n",
        "df = pd.DataFrame({\n",
        "    'Name': ['Alice', 'Bob', 'Charlie', 'David'],\n",
        "    'Age': [25, 30, 35, 40]\n",
        "})\n",
        "\n",
        "# Correct syntax for filtering data\n",
        "filtered_data = df[df['Age'] > 30]\n",
        "print(filtered_data)\n"
      ],
      "metadata": {
        "colab": {
          "base_uri": "https://localhost:8080/"
        },
        "id": "CgSM7lRar-TL",
        "outputId": "a5ee1a60-8ee2-4e53-fa7d-66d4001dcbfd"
      },
      "execution_count": 2,
      "outputs": [
        {
          "output_type": "stream",
          "name": "stdout",
          "text": [
            "      Name  Age\n",
            "2  Charlie   35\n",
            "3    David   40\n"
          ]
        }
      ]
    },
    {
      "cell_type": "code",
      "source": [
        "# Correct column renaming using the correct method name\n",
        "df = pd.DataFrame({\n",
        "    'Name': ['Alice', 'Bob'],\n",
        "    'Age': [25, 30]\n",
        "})\n",
        "\n",
        "df.rename(columns={'Name': 'Full Name'}, inplace=True)\n",
        "print(df)\n"
      ],
      "metadata": {
        "colab": {
          "base_uri": "https://localhost:8080/"
        },
        "id": "CuC1Cr6ZsRyO",
        "outputId": "ada9a4bd-c209-497d-b633-267a3a857f2e"
      },
      "execution_count": 3,
      "outputs": [
        {
          "output_type": "stream",
          "name": "stdout",
          "text": [
            "  Full Name  Age\n",
            "0     Alice   25\n",
            "1       Bob   30\n"
          ]
        }
      ]
    },
    {
      "cell_type": "code",
      "source": [
        "# Drop columns safely by checking if they exist\n",
        "df = pd.DataFrame({\n",
        "    'Name': ['Alice', 'Bob'],\n",
        "    'Age': [25, 30]\n",
        "})\n",
        "\n",
        "if 'Location' in df.columns:\n",
        "    df.drop('Location', axis=1, inplace=True)\n",
        "else:\n",
        "    print(\"Column 'Location' does not exist.\")\n",
        "\n",
        "print(df)\n"
      ],
      "metadata": {
        "colab": {
          "base_uri": "https://localhost:8080/"
        },
        "id": "iFRiC3m6uZaM",
        "outputId": "880acdff-7b9c-4626-cabc-8a1dbe45fd78"
      },
      "execution_count": 4,
      "outputs": [
        {
          "output_type": "stream",
          "name": "stdout",
          "text": [
            "Column 'Location' does not exist.\n",
            "    Name  Age\n",
            "0  Alice   25\n",
            "1    Bob   30\n"
          ]
        }
      ]
    },
    {
      "cell_type": "code",
      "source": [
        "# Group by 'City' and calculate the average of 'Age'\n",
        "data = {\n",
        "    'Name': ['Alice', 'Bob', 'Charlie', 'David'],\n",
        "    'Age': [25, 30, 35, 40],\n",
        "    'City': ['New York', 'Los Angeles', 'Chicago', 'Houston']\n",
        "}\n",
        "\n",
        "df = pd.DataFrame(data)\n",
        "\n",
        "# Correct groupby and aggregate method\n",
        "grouped = df.groupby('City')['Age'].mean()\n",
        "print(grouped)\n"
      ],
      "metadata": {
        "colab": {
          "base_uri": "https://localhost:8080/"
        },
        "id": "omoS0HHXua9V",
        "outputId": "f326ad87-5cb6-4b23-b009-5c9adc062d8e"
      },
      "execution_count": 5,
      "outputs": [
        {
          "output_type": "stream",
          "name": "stdout",
          "text": [
            "City\n",
            "Chicago        35.0\n",
            "Houston        40.0\n",
            "Los Angeles    30.0\n",
            "New York       25.0\n",
            "Name: Age, dtype: float64\n"
          ]
        }
      ]
    },
    {
      "cell_type": "code",
      "source": [
        "# Sorting by an existing column, 'Age'\n",
        "df = pd.DataFrame({\n",
        "    'Name': ['Alice', 'Bob', 'Charlie'],\n",
        "    'Age': [25, 30, 35]\n",
        "})\n",
        "\n",
        "# Sorting by 'Age'\n",
        "df_sorted = df.sort_values(by='Age')\n",
        "print(df_sorted)\n"
      ],
      "metadata": {
        "colab": {
          "base_uri": "https://localhost:8080/"
        },
        "id": "KYmjGp0tvBSt",
        "outputId": "2907e1d9-e6d2-438c-c739-9a391f18b18d"
      },
      "execution_count": 6,
      "outputs": [
        {
          "output_type": "stream",
          "name": "stdout",
          "text": [
            "      Name  Age\n",
            "0    Alice   25\n",
            "1      Bob   30\n",
            "2  Charlie   35\n"
          ]
        }
      ]
    },
    {
      "cell_type": "code",
      "source": [
        "# Dropping missing values correctly\n",
        "df = pd.DataFrame({\n",
        "    'Name': ['Alice', 'Bob', None, 'David'],\n",
        "    'Age': [25, None, 35, 40]\n",
        "})\n",
        "\n",
        "# Correct axis argument for rows (axis=0)\n",
        "df.dropna(axis=0, inplace=True)\n",
        "print(df)\n"
      ],
      "metadata": {
        "colab": {
          "base_uri": "https://localhost:8080/"
        },
        "id": "cEJDpqpzvMnE",
        "outputId": "88c7dcba-6fa4-4598-98b3-27d0fed98261"
      },
      "execution_count": 7,
      "outputs": [
        {
          "output_type": "stream",
          "name": "stdout",
          "text": [
            "    Name   Age\n",
            "0  Alice  25.0\n",
            "3  David  40.0\n"
          ]
        }
      ]
    },
    {
      "cell_type": "code",
      "source": [
        "# Adding a new column 'Senior' based on the 'Age' column\n",
        "df = pd.DataFrame({\n",
        "    'Name': ['Alice', 'Bob', 'Charlie', 'David'],\n",
        "    'Age': [25, 30, 65, 70]\n",
        "})\n",
        "\n",
        "# Correct condition: putting the comparison inside the brackets\n",
        "df['Senior'] = df['Age'] > 60\n",
        "print(df)\n"
      ],
      "metadata": {
        "colab": {
          "base_uri": "https://localhost:8080/"
        },
        "id": "FVnsS-S6wAhg",
        "outputId": "b8f7c45e-5062-4b88-cda7-976af8dcbd4e"
      },
      "execution_count": 8,
      "outputs": [
        {
          "output_type": "stream",
          "name": "stdout",
          "text": [
            "      Name  Age  Senior\n",
            "0    Alice   25   False\n",
            "1      Bob   30   False\n",
            "2  Charlie   65    True\n",
            "3    David   70    True\n"
          ]
        }
      ]
    },
    {
      "cell_type": "code",
      "source": [
        "# Creating a DataFrame with duplicate rows\n",
        "df = pd.DataFrame({\n",
        "    'Name': ['Alice', 'Bob', 'Charlie', 'Alice'],\n",
        "    'Age': [25, 30, 35, 25],\n",
        "    'City': ['New York', 'Los Angeles', 'Chicago', 'New York']\n",
        "})\n",
        "\n",
        "# Correct subset argument (should be 'Name', not 'Names')\n",
        "df.drop_duplicates(subset='Name', inplace=True)\n",
        "print(df)\n"
      ],
      "metadata": {
        "colab": {
          "base_uri": "https://localhost:8080/"
        },
        "id": "erGd76XMwG5u",
        "outputId": "c27a6a4a-d545-4c2f-a912-24cedd55867e"
      },
      "execution_count": 9,
      "outputs": [
        {
          "output_type": "stream",
          "name": "stdout",
          "text": [
            "      Name  Age         City\n",
            "0    Alice   25     New York\n",
            "1      Bob   30  Los Angeles\n",
            "2  Charlie   35      Chicago\n"
          ]
        }
      ]
    },
    {
      "cell_type": "code",
      "source": [
        "# Creating a DataFrame\n",
        "df = pd.DataFrame({\n",
        "    'Name': ['Alice', 'Bob', 'Charlie'],\n",
        "    'City': ['New York', 'Los Angeles', 'Chicago']\n",
        "})\n",
        "\n",
        "# Correct replace syntax (must include inplace=True or assign back to df)\n",
        "df['City'].replace({'New York': 'NY', 'Los Angeles': 'LA', 'Chicago': 'CHI'}, inplace=True)\n",
        "print(df)\n"
      ],
      "metadata": {
        "colab": {
          "base_uri": "https://localhost:8080/"
        },
        "id": "ZlGayPQOwQQJ",
        "outputId": "f6d89664-3b47-487c-99ed-578c97e2e16e"
      },
      "execution_count": 10,
      "outputs": [
        {
          "output_type": "stream",
          "name": "stdout",
          "text": [
            "      Name City\n",
            "0    Alice   NY\n",
            "1      Bob   LA\n",
            "2  Charlie  CHI\n"
          ]
        },
        {
          "output_type": "stream",
          "name": "stderr",
          "text": [
            "<ipython-input-10-890494bd5057>:8: FutureWarning: A value is trying to be set on a copy of a DataFrame or Series through chained assignment using an inplace method.\n",
            "The behavior will change in pandas 3.0. This inplace method will never work because the intermediate object on which we are setting values always behaves as a copy.\n",
            "\n",
            "For example, when doing 'df[col].method(value, inplace=True)', try using 'df.method({col: value}, inplace=True)' or df[col] = df[col].method(value) instead, to perform the operation inplace on the original object.\n",
            "\n",
            "\n",
            "  df['City'].replace({'New York': 'NY', 'Los Angeles': 'LA', 'Chicago': 'CHI'}, inplace=True)\n"
          ]
        }
      ]
    },
    {
      "cell_type": "code",
      "source": [
        "# Creating a DataFrame\n",
        "df = pd.DataFrame({\n",
        "    'ID': [1, 2, 3],\n",
        "    'Name': ['Alice', 'Bob', 'Charlie'],\n",
        "    'Age': [25, 30, 35]\n",
        "})\n",
        "\n",
        "# Correctly setting the index (column name should be 'ID')\n",
        "df.set_index('ID', inplace=True)\n",
        "print(df)\n"
      ],
      "metadata": {
        "colab": {
          "base_uri": "https://localhost:8080/"
        },
        "id": "fdtq-zZjwXca",
        "outputId": "0afe1570-5eb0-4d26-c233-5f157da58d36"
      },
      "execution_count": 11,
      "outputs": [
        {
          "output_type": "stream",
          "name": "stdout",
          "text": [
            "       Name  Age\n",
            "ID              \n",
            "1     Alice   25\n",
            "2       Bob   30\n",
            "3   Charlie   35\n"
          ]
        }
      ]
    },
    {
      "cell_type": "code",
      "source": [
        "# Creating a DataFrame\n",
        "df = pd.DataFrame({\n",
        "    'Name': ['Alice', 'Bob', 'Charlie'],\n",
        "    'Age': [25, 30, 25],\n",
        "    'City': ['New York', 'Los Angeles', 'New York']\n",
        "})\n",
        "\n",
        "# Correct sorting by multiple columns (use 'ascending' keyword, not 'ascend')\n",
        "df.sort_values(by=['Age', 'City'], ascending=[True, True], inplace=True)\n",
        "print(df)\n"
      ],
      "metadata": {
        "colab": {
          "base_uri": "https://localhost:8080/"
        },
        "id": "-enLro5YwmK2",
        "outputId": "33e8761e-2492-4350-b98d-75079e8ad4f6"
      },
      "execution_count": 12,
      "outputs": [
        {
          "output_type": "stream",
          "name": "stdout",
          "text": [
            "      Name  Age         City\n",
            "0    Alice   25     New York\n",
            "2  Charlie   25     New York\n",
            "1      Bob   30  Los Angeles\n"
          ]
        }
      ]
    },
    {
      "cell_type": "code",
      "source": [
        "# Creating a DataFrame\n",
        "df = pd.DataFrame({\n",
        "    'ID': [1, 2, 3],\n",
        "    'Name': ['Alice', 'Bob', 'Charlie'],\n",
        "    'Age': [25, 30, 35]\n",
        "})\n",
        "\n",
        "# Correctly accessing a row by label using .loc (label must exist)\n",
        "print(df.loc[2])  # This will access the row with index 2\n"
      ],
      "metadata": {
        "colab": {
          "base_uri": "https://localhost:8080/"
        },
        "id": "tADTbP59wngs",
        "outputId": "a190e3e6-c838-4adf-e8ac-e7a916e47e27"
      },
      "execution_count": 13,
      "outputs": [
        {
          "output_type": "stream",
          "name": "stdout",
          "text": [
            "ID            3\n",
            "Name    Charlie\n",
            "Age          35\n",
            "Name: 2, dtype: object\n"
          ]
        }
      ]
    },
    {
      "cell_type": "code",
      "source": [
        "# Creating a DataFrame\n",
        "data = {\n",
        "    'Date': ['2022-01-01', '2022-01-01', '2022-01-02', '2022-01-02'],\n",
        "    'City': ['New York', 'Los Angeles', 'New York', 'Los Angeles'],\n",
        "    'Temperature': [30, 70, 32, 75]\n",
        "}\n",
        "df = pd.DataFrame(data)\n",
        "\n",
        "# Correct pivoting (correct keyword is 'columns', not 'column')\n",
        "pivot_df = df.pivot(index='Date', columns='City', values='Temperature')\n",
        "print(pivot_df)\n"
      ],
      "metadata": {
        "colab": {
          "base_uri": "https://localhost:8080/"
        },
        "id": "18NeXq1rw2Se",
        "outputId": "b5f7d92e-2ef5-4000-91e6-b3a3ecd7aea2"
      },
      "execution_count": 14,
      "outputs": [
        {
          "output_type": "stream",
          "name": "stdout",
          "text": [
            "City        Los Angeles  New York\n",
            "Date                             \n",
            "2022-01-01           70        30\n",
            "2022-01-02           75        32\n"
          ]
        }
      ]
    },
    {
      "cell_type": "code",
      "source": [
        "# Creating a DataFrame\n",
        "df = pd.DataFrame({\n",
        "    'Name': ['Alice', 'Bob', 'Charlie'],\n",
        "    'Age': [25, 30, 35]\n",
        "})\n",
        "\n",
        "# Correct method for exporting to Excel\n",
        "df.to_excel('output.xlsx', index=False)\n"
      ],
      "metadata": {
        "id": "lk0XO63mw9MB"
      },
      "execution_count": 15,
      "outputs": []
    },
    {
      "cell_type": "code",
      "source": [
        "import matplotlib.pyplot as plt\n",
        "import pandas as pd\n",
        "\n",
        "# Creating a DataFrame\n",
        "df = pd.DataFrame({\n",
        "    'Age': [25, 30, 35, 40]\n",
        "})\n",
        "\n",
        "# Correct plotting syntax\n",
        "df.plot(kind='hist', bins=5)\n",
        "plt.show()  # Correct method name\n"
      ],
      "metadata": {
        "colab": {
          "base_uri": "https://localhost:8080/",
          "height": 430
        },
        "id": "8Mo7gTF4xMMa",
        "outputId": "e5d34a41-c825-4c17-d9c3-b6028fbb005c"
      },
      "execution_count": 16,
      "outputs": [
        {
          "output_type": "display_data",
          "data": {
            "text/plain": [
              "<Figure size 640x480 with 1 Axes>"
            ],
            "image/png": "[encoded data removed]"
          },
          "metadata": {}
        }
      ]
    }
  ]
}