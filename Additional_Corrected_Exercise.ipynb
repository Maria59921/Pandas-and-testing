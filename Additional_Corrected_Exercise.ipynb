{
  "nbformat": 4,
  "nbformat_minor": 0,
  "metadata": {
    "colab": {
      "provenance": []
    },
    "kernelspec": {
      "name": "python3",
      "display_name": "Python 3"
    },
    "language_info": {
      "name": "python"
    }
  },
  "cells": [
    {
      "cell_type": "code",
      "execution_count": 2,
      "metadata": {
        "colab": {
          "base_uri": "https://localhost:8080/"
        },
        "id": "g-WCYM2i4HP0",
        "outputId": "260e97b8-f994-446c-9482-cb805713929a"
      },
      "outputs": [
        {
          "output_type": "stream",
          "name": "stdout",
          "text": [
            "      Name  Age\n",
            "0    Alice   25\n",
            "1      Bob   30\n",
            "2  Charlie   35\n",
            "3    David   40\n"
          ]
        }
      ],
      "source": [
        "# Creating two DataFrames\n",
        "import pandas as pd\n",
        "df1 = pd.DataFrame({\n",
        "    'Name': ['Alice', 'Bob'],\n",
        "    'Age': [25, 30]\n",
        "})\n",
        "\n",
        "df2 = pd.DataFrame({\n",
        "    'Name': ['Charlie', 'David'],\n",
        "    'Age': [35, 40]\n",
        "})\n",
        "\n",
        "# Correct concatenation along rows (axis=0)\n",
        "combined_df = pd.concat([df1, df2], axis=0).reset_index(drop=True)\n",
        "print(combined_df)\n"
      ]
    },
    {
      "cell_type": "code",
      "source": [
        "# Creating two DataFrames\n",
        "df1 = pd.DataFrame({\n",
        "    'ID': [1, 2, 3],\n",
        "    'Name': ['Alice', 'Bob', 'Charlie']\n",
        "})\n",
        "\n",
        "df2 = pd.DataFrame({\n",
        "    'ID': [1, 2, 4],\n",
        "    'Salary': [50000, 60000, 70000]\n",
        "})\n",
        "\n",
        "# Correct merging with proper join type (how='left')\n",
        "merged_df = pd.merge(df1, df2, on='ID', how='left')\n",
        "print(merged_df)\n"
      ],
      "metadata": {
        "colab": {
          "base_uri": "https://localhost:8080/"
        },
        "id": "hQ_PLoQc4kGa",
        "outputId": "252a26ca-e961-4a9f-928e-75337a5def01"
      },
      "execution_count": 3,
      "outputs": [
        {
          "output_type": "stream",
          "name": "stdout",
          "text": [
            "   ID     Name   Salary\n",
            "0   1    Alice  50000.0\n",
            "1   2      Bob  60000.0\n",
            "2   3  Charlie      NaN\n"
          ]
        }
      ]
    },
    {
      "cell_type": "code",
      "source": [
        "# Creating a DataFrame\n",
        "df = pd.DataFrame({\n",
        "    'Date': ['2023-01-01', '2023-01-02', '2023-01-03'],\n",
        "    'City': ['New York', 'Chicago', 'New York'],\n",
        "    'Sales': [100, 150, 200]\n",
        "})\n",
        "\n",
        "# Correct pivot table syntax (use 'columns', not 'cols')\n",
        "pivot_df = pd.pivot_table(df, index='Date', values='Sales', columns='City', aggfunc='sum')\n",
        "print(pivot_df)\n"
      ],
      "metadata": {
        "colab": {
          "base_uri": "https://localhost:8080/"
        },
        "id": "PiVRDPE240Rh",
        "outputId": "7f183896-3224-4ce3-cb99-39546a8de9aa"
      },
      "execution_count": 4,
      "outputs": [
        {
          "output_type": "stream",
          "name": "stdout",
          "text": [
            "City        Chicago  New York\n",
            "Date                         \n",
            "2023-01-01      NaN     100.0\n",
            "2023-01-02    150.0       NaN\n",
            "2023-01-03      NaN     200.0\n"
          ]
        }
      ]
    },
    {
      "cell_type": "code",
      "source": [
        "# Creating a DataFrame\n",
        "df = pd.DataFrame({\n",
        "    'Name': ['Alice', 'Bob', 'Charlie'],\n",
        "    'Salary': [50000, 60000, 70000]\n",
        "})\n",
        "\n",
        "# Correct application of a function to a column\n",
        "df['New Salary'] = df['Salary'].apply(lambda x: x * 1.1 if x > 60000 else x * 1.05)\n",
        "print(df)\n"
      ],
      "metadata": {
        "colab": {
          "base_uri": "https://localhost:8080/"
        },
        "id": "Nsr4l1mq4_DV",
        "outputId": "f71593be-45cb-4686-ab0f-f37343a75bda"
      },
      "execution_count": 5,
      "outputs": [
        {
          "output_type": "stream",
          "name": "stdout",
          "text": [
            "      Name  Salary  New Salary\n",
            "0    Alice   50000     52500.0\n",
            "1      Bob   60000     63000.0\n",
            "2  Charlie   70000     77000.0\n"
          ]
        }
      ]
    },
    {
      "cell_type": "code",
      "source": [
        "# Creating a DataFrame\n",
        "df = pd.DataFrame({\n",
        "    'Name': ['Alice', 'Bob', 'Alice', 'Bob'],\n",
        "    'Sales': [200, 150, 300, 400],\n",
        "    'City': ['New York', 'Chicago', 'New York', 'Chicago']\n",
        "})\n",
        "\n",
        "# Correct groupby with multiple aggregation functions (use 'mean' instead of 'average')\n",
        "grouped_df = df.groupby('City')['Sales'].agg([sum, 'mean'])\n",
        "print(grouped_df)\n"
      ],
      "metadata": {
        "colab": {
          "base_uri": "https://localhost:8080/"
        },
        "id": "jpxXwp2A5Fl3",
        "outputId": "49ffdd25-8567-49b7-c8e4-e6efd7060024"
      },
      "execution_count": 6,
      "outputs": [
        {
          "output_type": "stream",
          "name": "stdout",
          "text": [
            "          sum   mean\n",
            "City                \n",
            "Chicago   550  275.0\n",
            "New York  500  250.0\n"
          ]
        },
        {
          "output_type": "stream",
          "name": "stderr",
          "text": [
            "<ipython-input-6-f249c3ef9fbc>:9: FutureWarning: The provided callable <built-in function sum> is currently using SeriesGroupBy.sum. In a future version of pandas, the provided callable will be used directly. To keep current behavior pass the string \"sum\" instead.\n",
            "  grouped_df = df.groupby('City')['Sales'].agg([sum, 'mean'])\n"
          ]
        }
      ]
    },
    {
      "cell_type": "code",
      "source": [
        "# Creating a DataFrame with correct date type\n",
        "df = pd.DataFrame({\n",
        "    'Date': ['2023-01-01', '2023-02-01', '2023-03-01'],\n",
        "    'Sales': [200, 300, 400]\n",
        "})\n",
        "\n",
        "# Correct datetime conversion\n",
        "df['Date'] = pd.to_datetime(df['Date'])\n",
        "\n",
        "# Setting Date column as index\n",
        "df.set_index('Date', inplace=True)\n",
        "print(df)\n"
      ],
      "metadata": {
        "colab": {
          "base_uri": "https://localhost:8080/"
        },
        "id": "gGYtDvr75QWR",
        "outputId": "ab0161c9-a2cc-44d0-f2d7-3bbb75ae28a1"
      },
      "execution_count": 7,
      "outputs": [
        {
          "output_type": "stream",
          "name": "stdout",
          "text": [
            "            Sales\n",
            "Date             \n",
            "2023-01-01    200\n",
            "2023-02-01    300\n",
            "2023-03-01    400\n"
          ]
        }
      ]
    },
    {
      "cell_type": "code",
      "source": [
        "# Creating a DataFrame\n",
        "df = pd.DataFrame({\n",
        "    'Name': ['Alice', 'Bob'],\n",
        "    'Math': [85, 90],\n",
        "    'English': [95, 80]\n",
        "})\n",
        "\n",
        "# Correct use of melt (correct column name in 'id_vars')\n",
        "melted_df = pd.melt(df, id_vars='Name', value_vars=['Math', 'English'])\n",
        "print(melted_df)\n"
      ],
      "metadata": {
        "colab": {
          "base_uri": "https://localhost:8080/"
        },
        "id": "0WcgFbF-5p2C",
        "outputId": "ed40e100-d66e-4c8b-d0ec-a00f26ec8f55"
      },
      "execution_count": 8,
      "outputs": [
        {
          "output_type": "stream",
          "name": "stdout",
          "text": [
            "    Name variable  value\n",
            "0  Alice     Math     85\n",
            "1    Bob     Math     90\n",
            "2  Alice  English     95\n",
            "3    Bob  English     80\n"
          ]
        }
      ]
    },
    {
      "cell_type": "code",
      "source": [
        "# Creating a DataFrame\n",
        "df = pd.DataFrame({\n",
        "    'Date': pd.date_range(start='2023-01-01', periods=5),\n",
        "    'Sales': [100, 200, 150, 300, 250]\n",
        "})\n",
        "\n",
        "# Correct rolling function (use 'rolling' instead of 'roll')\n",
        "df['Rolling Mean'] = df['Sales'].rolling(3).mean()\n",
        "print(df)\n"
      ],
      "metadata": {
        "colab": {
          "base_uri": "https://localhost:8080/"
        },
        "id": "7rxn9Tj95wLl",
        "outputId": "c23211bd-a63b-4346-d581-7b43a3289b14"
      },
      "execution_count": 9,
      "outputs": [
        {
          "output_type": "stream",
          "name": "stdout",
          "text": [
            "        Date  Sales  Rolling Mean\n",
            "0 2023-01-01    100           NaN\n",
            "1 2023-01-02    200           NaN\n",
            "2 2023-01-03    150    150.000000\n",
            "3 2023-01-04    300    216.666667\n",
            "4 2023-01-05    250    233.333333\n"
          ]
        }
      ]
    },
    {
      "cell_type": "code",
      "source": [
        "import numpy as np\n",
        "\n",
        "# Creating a DataFrame\n",
        "df = pd.DataFrame({\n",
        "    'Name': ['Alice', 'Bob', 'Charlie'],\n",
        "    'Score': [85, 90, 70]\n",
        "})\n",
        "\n",
        "# Correct conditional assignment (use correct column name and syntax)\n",
        "df['Result'] = np.where(df['Score'] >= 80, 'Pass', 'Fail')\n",
        "print(df)\n"
      ],
      "metadata": {
        "colab": {
          "base_uri": "https://localhost:8080/"
        },
        "id": "YdUxHWm052vO",
        "outputId": "922b9bae-3af2-486b-de29-86272323217a"
      },
      "execution_count": 10,
      "outputs": [
        {
          "output_type": "stream",
          "name": "stdout",
          "text": [
            "      Name  Score Result\n",
            "0    Alice     85   Pass\n",
            "1      Bob     90   Pass\n",
            "2  Charlie     70   Fail\n"
          ]
        }
      ]
    }
  ]
}