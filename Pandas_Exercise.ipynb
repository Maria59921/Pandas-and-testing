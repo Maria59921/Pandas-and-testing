{
  "nbformat": 4,
  "nbformat_minor": 0,
  "metadata": {
    "colab": {
      "provenance": []
    },
    "kernelspec": {
      "name": "python3",
      "display_name": "Python 3"
    },
    "language_info": {
      "name": "python"
    }
  },
  "cells": [
    {
      "cell_type": "markdown",
      "source": [
        "Exercise 1: DataFrame Creation and Column Selection"
      ],
      "metadata": {
        "id": "zNjO950MrjuS"
      }
    },
    {
      "cell_type": "code",
      "source": [
        "import pandas as pd\n",
        "\n",
        "data = {\n",
        "    'Name': ['Alice', 'Bob', 'Charlie', 'David'],\n",
        "    'Age': [25, 30, 35, 40],\n",
        "    'City': ['New York', 'Los Angeles', 'Chicago', 'Houston']\n",
        "}\n",
        "\n",
        "df = pd.DataFrame(data)\n",
        "\n",
        "print(df.Age())\n"
      ],
      "metadata": {
        "id": "Hn6XUP1_rhKg"
      },
      "execution_count": null,
      "outputs": []
    },
    {
      "cell_type": "code",
      "source": [
        "df = pd.DataFrame({\n",
        "    'Name': ['Alice', 'Bob', 'Charlie', 'David'],\n",
        "    'Age': [25, 30, 35, 40]\n",
        "})\n",
        "\n",
        "filtered_data = df[df.Age > 30]\n",
        "print(filtered_data)\n"
      ],
      "metadata": {
        "id": "5NKbUo3crtvQ"
      },
      "execution_count": null,
      "outputs": []
    },
    {
      "cell_type": "code",
      "source": [
        "df = pd.DataFrame({\n",
        "    'Name': ['Alice', 'Bob'],\n",
        "    'Age': [25, 30]\n",
        "})\n",
        "\n",
        "df.renames(columns={'Name': 'Full Name'}, inplace=True)\n",
        "print(df)\n"
      ],
      "metadata": {
        "id": "3ujy_BmnsMoC"
      },
      "execution_count": null,
      "outputs": []
    },
    {
      "cell_type": "code",
      "source": [
        "df = pd.DataFrame({\n",
        "    'Name': ['Alice', 'Bob'],\n",
        "    'Age': [25, 30]\n",
        "})\n",
        "\n",
        "df.renames(columns={'Name': 'Full Name'}, inplace=True)\n",
        "print(df)\n"
      ],
      "metadata": {
        "id": "HLdLmGnNsZrz"
      },
      "execution_count": null,
      "outputs": []
    },
    {
      "cell_type": "code",
      "source": [
        "df = pd.DataFrame({\n",
        "    'Name': ['Alice', 'Bob'],\n",
        "    'Age': [25, 30]\n",
        "})\n",
        "\n",
        "df.drop('Location', axis=1, inplace=True)\n",
        "print(df)\n"
      ],
      "metadata": {
        "id": "nTAg9rGIuHN3"
      },
      "execution_count": null,
      "outputs": []
    },
    {
      "cell_type": "code",
      "source": [
        "data = {\n",
        "    'Name': ['Alice', 'Bob', 'Charlie', 'David'],\n",
        "    'Age': [25, 30, 35, 40],\n",
        "    'City': ['New York', 'Los Angeles', 'Chicago', 'Houston']\n",
        "}\n",
        "\n",
        "df = pd.DataFrame(data)\n",
        "\n",
        "grouped = df.groupby('City').Age.mean()\n",
        "print(grouped)"
      ],
      "metadata": {
        "id": "x8FsRygAufL8"
      },
      "execution_count": null,
      "outputs": []
    },
    {
      "cell_type": "code",
      "source": [
        "df = pd.DataFrame({\n",
        "    'Name': ['Alice', 'Bob', 'Charlie'],\n",
        "    'Age': [25, 30, 35]\n",
        "})\n",
        "\n",
        "df_sorted = df.sort_values(by='Salary')\n",
        "print(df_sorted)\n"
      ],
      "metadata": {
        "id": "2LmFbJrhuwRh"
      },
      "execution_count": null,
      "outputs": []
    },
    {
      "cell_type": "code",
      "source": [
        "df = pd.DataFrame({\n",
        "    'Name': ['Alice', 'Bob', None, 'David'],\n",
        "    'Age': [25, None, 35, 40]\n",
        "})\n",
        "\n",
        "df.dropna(axis=2, inplace=True)\n",
        "print(df)\n"
      ],
      "metadata": {
        "id": "mmvul2XMugLr"
      },
      "execution_count": null,
      "outputs": []
    },
    {
      "cell_type": "code",
      "source": [
        "df = pd.DataFrame({\n",
        "    'Name': ['Alice', 'Bob', 'Charlie', 'David'],\n",
        "    'Age': [25, 30, 65, 70]\n",
        "})\n",
        "\n",
        "df['Senior'] = df['Age' > 60]\n",
        "print(df)\n"
      ],
      "metadata": {
        "id": "u3zdTuKWvIU2"
      },
      "execution_count": null,
      "outputs": []
    },
    {
      "cell_type": "code",
      "source": [
        "df = pd.DataFrame({\n",
        "    'Name': ['Alice', 'Bob', 'Charlie', 'Alice'],\n",
        "    'Age': [25, 30, 35, 25],\n",
        "    'City': ['New York', 'Los Angeles', 'Chicago', 'New York']\n",
        "})\n",
        "\n",
        "df.drop_duplicates(subset='Names', inplace=True)\n",
        "print(df)\n"
      ],
      "metadata": {
        "id": "xFCeoFSuv7jB"
      },
      "execution_count": null,
      "outputs": []
    },
    {
      "cell_type": "code",
      "source": [
        "df = pd.DataFrame({\n",
        "    'Name': ['Alice', 'Bob', 'Charlie'],\n",
        "    'City': ['New York', 'Los Angeles', 'Chicago']\n",
        "})\n",
        "\n",
        "df['City'].replace({'New York': 'NY', 'Los Angeles': 'LA', 'Chicago': 'CHI'})\n",
        "print(df)\n"
      ],
      "metadata": {
        "id": "DZxpBvbbwNkb"
      },
      "execution_count": null,
      "outputs": []
    },
    {
      "cell_type": "code",
      "source": [
        "df = pd.DataFrame({\n",
        "    'ID': [1, 2, 3],\n",
        "    'Name': ['Alice', 'Bob', 'Charlie'],\n",
        "    'Age': [25, 30, 35]\n",
        "})\n",
        "\n",
        "df.set_index('Ids', inplace=True)\n",
        "print(df)\n"
      ],
      "metadata": {
        "id": "BqrPiDSWwUr_"
      },
      "execution_count": null,
      "outputs": []
    },
    {
      "cell_type": "code",
      "source": [
        "df = pd.DataFrame({\n",
        "    'Name': ['Alice', 'Bob', 'Charlie'],\n",
        "    'Age': [25, 30, 25],\n",
        "    'City': ['New York', 'Los Angeles', 'New York']\n",
        "})\n",
        "\n",
        "df.sort_values(by=['Age', 'City'], ascend=False)\n",
        "print(df)\n"
      ],
      "metadata": {
        "id": "w9Z76mpQwiod"
      },
      "execution_count": null,
      "outputs": []
    },
    {
      "cell_type": "code",
      "source": [
        "df = pd.DataFrame({\n",
        "    'ID': [1, 2, 3],\n",
        "    'Name': ['Alice', 'Bob', 'Charlie'],\n",
        "    'Age': [25, 30, 35]\n",
        "})\n",
        "\n",
        "print(df.loc[4])\n"
      ],
      "metadata": {
        "id": "kIE42o0pwjbv"
      },
      "execution_count": null,
      "outputs": []
    },
    {
      "cell_type": "code",
      "source": [
        "data = {\n",
        "    'Date': ['2022-01-01', '2022-01-01', '2022-01-02', '2022-01-02'],\n",
        "    'City': ['New York', 'Los Angeles', 'New York', 'Los Angeles'],\n",
        "    'Temperature': [30, 70, 32, 75]\n",
        "}\n",
        "df = pd.DataFrame(data)\n",
        "\n",
        "pivot_df = df.pivot(index='Date', column='City', values='Temperature')\n",
        "print(pivot_df)\n"
      ],
      "metadata": {
        "id": "JE-IIVTjwxw5"
      },
      "execution_count": null,
      "outputs": []
    },
    {
      "cell_type": "code",
      "source": [
        "df = pd.DataFrame({\n",
        "    'Name': ['Alice', 'Bob', 'Charlie'],\n",
        "    'Age': [25, 30, 35]\n",
        "})\n",
        "\n",
        "df.toexel('output.xlsx')\n"
      ],
      "metadata": {
        "id": "YOGtMAeZw6t1"
      },
      "execution_count": null,
      "outputs": []
    },
    {
      "cell_type": "code",
      "source": [
        "import matplotlib.pyplot as plt\n",
        "import pandas as pd\n",
        "\n",
        "df = pd.DataFrame({\n",
        "    'Age': [25, 30, 35, 40]\n",
        "})\n",
        "\n",
        "df.plot(kind='hist', bins=5)\n",
        "plt.shows()\n"
      ],
      "metadata": {
        "id": "dRVig34lxIzp"
      },
      "execution_count": null,
      "outputs": []
    }
  ]
}