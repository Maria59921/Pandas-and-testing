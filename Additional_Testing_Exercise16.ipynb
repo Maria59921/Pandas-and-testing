{
  "nbformat": 4,
  "nbformat_minor": 0,
  "metadata": {
    "colab": {
      "provenance": []
    },
    "kernelspec": {
      "name": "python3",
      "display_name": "Python 3"
    },
    "language_info": {
      "name": "python"
    }
  },
  "cells": [
    {
      "cell_type": "code",
      "execution_count": null,
      "metadata": {
        "id": "CFvD84c73-LZ"
      },
      "outputs": [],
      "source": [
        "# Creating two DataFrames\n",
        "df1 = pd.DataFrame({\n",
        "    'Name': ['Alice', 'Bob'],\n",
        "    'Age': [25, 30]\n",
        "})\n",
        "\n",
        "df2 = pd.DataFrame({\n",
        "    'Name': ['Charlie', 'David'],\n",
        "    'Age': [35, 40]\n",
        "})\n",
        "\n",
        "# Incorrect concatenation (missing argument for concatenation along rows)\n",
        "combined_df = pd.concat([df1, df2], axis=2)\n",
        "print(combined_df)\n"
      ]
    },
    {
      "cell_type": "code",
      "source": [
        "# Creating two DataFrames\n",
        "df1 = pd.DataFrame({\n",
        "    'ID': [1, 2, 3],\n",
        "    'Name': ['Alice', 'Bob', 'Charlie']\n",
        "})\n",
        "\n",
        "df2 = pd.DataFrame({\n",
        "    'ID': [1, 2, 4],\n",
        "    'Salary': [50000, 60000, 70000]\n",
        "})\n",
        "\n",
        "# Incorrect merging (misspelled argument for join type)\n",
        "merged_df = pd.merge(df1, df2, on='ID', how='leftjoin')\n",
        "print(merged_df)\n"
      ],
      "metadata": {
        "id": "S5VhqSh44VHN"
      },
      "execution_count": null,
      "outputs": []
    },
    {
      "cell_type": "code",
      "source": [
        "# Creating a DataFrame\n",
        "df = pd.DataFrame({\n",
        "    'Date': ['2023-01-01', '2023-01-02', '2023-01-03'],\n",
        "    'City': ['New York', 'Chicago', 'New York'],\n",
        "    'Sales': [100, 150, 200]\n",
        "})\n",
        "\n",
        "# Incorrect pivot table syntax\n",
        "pivot_df = pd.pivot_table(df, index='Date', values='Sales', cols='City', aggfunc='sum')\n",
        "print(pivot_df)\n"
      ],
      "metadata": {
        "id": "VRzkxykq4xyV"
      },
      "execution_count": null,
      "outputs": []
    },
    {
      "cell_type": "code",
      "source": [
        "# Creating a DataFrame\n",
        "df = pd.DataFrame({\n",
        "    'Name': ['Alice', 'Bob', 'Charlie'],\n",
        "    'Salary': [50000, 60000, 70000]\n",
        "})\n",
        "\n",
        "# Incorrect application of a function to a column (wrong lambda syntax)\n",
        "df['New Salary'] = df['Salary'].apply(lambda x: x * 1.1 if x > 60000 else: x * 1.05)\n",
        "print(df)\n"
      ],
      "metadata": {
        "id": "wHKNSevU48th"
      },
      "execution_count": null,
      "outputs": []
    },
    {
      "cell_type": "code",
      "source": [
        "# Creating a DataFrame\n",
        "df = pd.DataFrame({\n",
        "    'Name': ['Alice', 'Bob', 'Alice', 'Bob'],\n",
        "    'Sales': [200, 150, 300, 400],\n",
        "    'City': ['New York', 'Chicago', 'New York', 'Chicago']\n",
        "})\n",
        "\n",
        "# Incorrect groupby with multiple aggregation functions\n",
        "grouped_df = df.groupby('City')['Sales'].agg([sum, 'average'])\n",
        "print(grouped_df)\n"
      ],
      "metadata": {
        "id": "wFbbz6fM5C5v"
      },
      "execution_count": null,
      "outputs": []
    },
    {
      "cell_type": "code",
      "source": [
        "# Creating a DataFrame with incorrect date type\n",
        "df = pd.DataFrame({\n",
        "    'Date': ['2023-01-01', '2023-02-01', '2023-03-01'],\n",
        "    'Sales': [200, 300, 400]\n",
        "})\n",
        "\n",
        "# Incorrect datetime conversion (wrong column name)\n",
        "df['Date'] = pd.to_timestamp(df['Dates'])\n",
        "\n",
        "# Setting Date column as index\n",
        "df.set_index('Date', inplace=True)\n",
        "print(df)\n"
      ],
      "metadata": {
        "id": "DM9J2T7b5NPp"
      },
      "execution_count": null,
      "outputs": []
    },
    {
      "cell_type": "code",
      "source": [
        "# Creating a DataFrame\n",
        "df = pd.DataFrame({\n",
        "    'Name': ['Alice', 'Bob'],\n",
        "    'Math': [85, 90],\n",
        "    'English': [95, 80]\n",
        "})\n",
        "\n",
        "# Incorrect use of melt (wrong column names in 'id_vars')\n",
        "melted_df = pd.melt(df, id_vars='Names', value_vars=['Math', 'English'])\n",
        "print(melted_df)\n"
      ],
      "metadata": {
        "id": "340xtTJ75YN_"
      },
      "execution_count": null,
      "outputs": []
    },
    {
      "cell_type": "code",
      "source": [
        "# Creating a DataFrame\n",
        "df = pd.DataFrame({\n",
        "    'Date': pd.date_range(start='2023-01-01', periods=5),\n",
        "    'Sales': [100, 200, 150, 300, 250]\n",
        "})\n",
        "\n",
        "# Incorrect rolling function (wrong method name)\n",
        "df['Rolling Mean'] = df['Sales'].roll(3).mean()\n",
        "print(df)\n"
      ],
      "metadata": {
        "id": "HcMA7bR75tkS"
      },
      "execution_count": null,
      "outputs": []
    },
    {
      "cell_type": "code",
      "source": [
        "import numpy as np\n",
        "\n",
        "# Creating a DataFrame\n",
        "df = pd.DataFrame({\n",
        "    'Name': ['Alice', 'Bob', 'Charlie'],\n",
        "    'Score': [85, 90, 70]\n",
        "})\n",
        "\n",
        "# Incorrect conditional assignment (wrong column name and np.where syntax)\n",
        "df['Result'] = np.where(df['Scores'] >= 80, 'Pass', 'Fail')\n",
        "print(df)\n"
      ],
      "metadata": {
        "id": "IW52-oaG5y6e"
      },
      "execution_count": null,
      "outputs": []
    }
  ]
}